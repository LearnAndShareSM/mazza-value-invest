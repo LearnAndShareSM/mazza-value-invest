{
 "cells": [
  {
   "cell_type": "code",
   "execution_count": 2,
   "metadata": {},
   "outputs": [],
   "source": [
    "from openbb_terminal.sdk import openbb\n",
    "from financialmodelingprep import fmp_stocks\n",
    "import yaml\n",
    "import pandas as pd\n",
    "from datetime import datetime\n",
    "from db.schema_models import LogAvailableTickers, LogIngestedTickers\n",
    "from db.db_utils import insert_data\n",
    "\n",
    "from db.db_engine import engine\n",
    "\n",
    "\n",
    "with open('credentials.yaml', 'r') as file:\n",
    "    config = yaml.safe_load(file)\n",
    "\n",
    "# Fetch the companies and tickers\n",
    "openbb.keys.fmp(key=config['api']['fmp'], persist=True)\n",
    "companies = fmp_stocks.available_companies(config['api']['fmp'])\n",
    "companies_nasdaq = companies[(companies['exchangeShortName'] == \"NASDAQ\") & (companies['type'] == \"stock\")]\n",
    "list_ticker = companies_nasdaq.symbol.to_list()"
   ]
  },
  {
   "cell_type": "code",
   "execution_count": 7,
   "metadata": {},
   "outputs": [],
   "source": [
    "from sqlalchemy import inspect\n",
    "\n",
    "# Insert the data into the database\n",
    "record = {\n",
    "    'timestamp': datetime.now(),\n",
    "    'num_companies': len(companies),\n",
    "    'num_tickers': len(list_ticker)\n",
    "}\n",
    "insert_data(LogAvailableTickers, record)\n"
   ]
  },
  {
   "cell_type": "code",
   "execution_count": 8,
   "metadata": {},
   "outputs": [],
   "source": [
    "list_ticker = ['AAPL', \"PLTR\",\"AMZN\",\"META\",\"NIO\",\"RGTI\",\"FFIEW\"]"
   ]
  },
  {
   "cell_type": "code",
   "execution_count": 9,
   "metadata": {},
   "outputs": [],
   "source": [
    "source=\"FinancialModelingPrep\"\n",
    "quarterly=True\n",
    "limit=100\n",
    "\n",
    "\n",
    "inspector = inspect(engine)\n",
    "if 'fa_balance' in inspector.get_table_names():\n",
    "    df = pd.read_sql('fa_balance', con=engine)\n",
    "else:\n",
    "    df = pd.DataFrame()\n",
    "\n"
   ]
  },
  {
   "cell_type": "code",
   "execution_count": 10,
   "metadata": {},
   "outputs": [
    {
     "name": "stdout",
     "output_type": "stream",
     "text": [
      "0 AAPL\n",
      "1 PLTR\n",
      "2 AMZN\n",
      "3 META\n",
      "4 NIO\n",
      "5 RGTI\n",
      "6 FFIEW\n"
     ]
    }
   ],
   "source": [
    "\n",
    "\n",
    "\n",
    "\n",
    "for c,ticker in enumerate(list_ticker):\n",
    "    print(c, ticker)\n",
    "    df_quarterly = openbb.stocks.fa.balance(symbol=ticker, source=source, quarterly=quarterly, limit=limit)\n",
    "    df_quarterly = df_quarterly.T.reset_index()\n",
    "\n",
    "    df_quarterly['ticker'] = ticker\n",
    "    \n",
    "    # Aggiungiamo la data corrente\n",
    "    df_quarterly['current_date'] = pd.Timestamp.now().floor('S')\n",
    "    \n",
    "    df_quarterly.columns = [col.lower().replace(\" \",\"_\") for col in df_quarterly.columns]\n",
    "\n",
    "    # Prendiamo solo i record che non sono già presenti rispetto a Cik, Calendar year, Period\n",
    "    \n",
    "    if df.empty:\n",
    "        df = df_quarterly.copy()\n",
    "        \n",
    "        record = {\n",
    "            'ingestion_timestamp': datetime.now(),\n",
    "            'ticker': ticker,\n",
    "            'num_new_rows': len(df),\n",
    "            'num_old_rows_diff_dates': 0,\n",
    "            'num_columns': len(df.columns)\n",
    "        }\n",
    "        \n",
    "    else:\n",
    "        df_quarterly_merge = df_quarterly.merge(df, how='left', indicator=True, on=['cik', 'calendar_year', 'period'], suffixes=('', '_y'))\n",
    "        df_new_rows = df_quarterly_merge[df_quarterly_merge['_merge'] == 'left_only']\n",
    "        \n",
    "        df = df.append(df_new_rows[df.columns])\n",
    "            \n",
    "        # Verifichiamo se ci sono record che sono già presenti ma con date diverse\n",
    "        df_old_rows = df_quarterly_merge[df_quarterly_merge['_merge'] == 'both']\n",
    "        \n",
    "        df_old_rows_diff_dates = df_old_rows[(df_old_rows['filling_date'] != df_old_rows['filling_date_y']) | (df_old_rows['accepted_date'] != df_old_rows['accepted_date_y'])]\n",
    "        df = df.append(df_old_rows_diff_dates[df.columns])\n",
    "\n",
    "\n",
    "    # Creiamo e inseriamo il nuovo record in log_ingested_tickers\n",
    "        record = {\n",
    "            'ingestion_timestamp': datetime.now(),\n",
    "            'ticker': ticker,\n",
    "            'num_new_rows': len(df_new_rows),\n",
    "            'num_old_rows_diff_dates': len(df_old_rows_diff_dates),\n",
    "            'num_columns': len(df_quarterly.columns)\n",
    "        }\n",
    "        \n",
    "    insert_data(LogIngestedTickers, record)\n",
    "    \n",
    "    df.to_sql('fa_balance', engine, if_exists='replace', index=False)\n"
   ]
  },
  {
   "cell_type": "code",
   "execution_count": null,
   "metadata": {},
   "outputs": [],
   "source": []
  }
 ],
 "metadata": {
  "kernelspec": {
   "display_name": "obb",
   "language": "python",
   "name": "python3"
  },
  "language_info": {
   "codemirror_mode": {
    "name": "ipython",
    "version": 3
   },
   "file_extension": ".py",
   "mimetype": "text/x-python",
   "name": "python",
   "nbconvert_exporter": "python",
   "pygments_lexer": "ipython3",
   "version": "3.9.13"
  },
  "orig_nbformat": 4
 },
 "nbformat": 4,
 "nbformat_minor": 2
}
