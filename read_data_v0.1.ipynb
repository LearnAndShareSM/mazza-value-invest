{
 "cells": [
  {
   "cell_type": "code",
   "execution_count": 1,
   "metadata": {},
   "outputs": [],
   "source": [
    "from openbb_terminal.sdk import openbb\n",
    "from financialmodelingprep import fmp_stocks\n",
    "import yaml\n",
    "from datetime import datetime\n",
    "from db.schema_models import LogAvailableTickers\n",
    "from db.db_utils import insert_data\n",
    "\n",
    "with open('credentials.yaml', 'r') as file:\n",
    "    config = yaml.safe_load(file)\n",
    "\n",
    "# Fetch the companies and tickers\n",
    "openbb.keys.fmp(key=config['api']['fmp'], persist=True)\n",
    "companies = fmp_stocks.available_companies(config['api']['fmp'])\n",
    "companies_nasdaq = companies[(companies['exchangeShortName'] == \"NASDAQ\") & (companies['type'] == \"stock\")]\n",
    "list_ticker = companies_nasdaq.symbol.to_list()\n"
   ]
  },
  {
   "cell_type": "code",
   "execution_count": 2,
   "metadata": {},
   "outputs": [],
   "source": [
    "\n",
    "# Insert the data into the database\n",
    "record = {\n",
    "    'timestamp': datetime.now(),\n",
    "    'num_companies': len(companies),\n",
    "    'num_tickers': len(list_ticker)\n",
    "}\n",
    "insert_data(LogAvailableTickers, record)\n"
   ]
  },
  {
   "cell_type": "code",
   "execution_count": null,
   "metadata": {},
   "outputs": [],
   "source": []
  }
 ],
 "metadata": {
  "kernelspec": {
   "display_name": "obb",
   "language": "python",
   "name": "python3"
  },
  "language_info": {
   "codemirror_mode": {
    "name": "ipython",
    "version": 3
   },
   "file_extension": ".py",
   "mimetype": "text/x-python",
   "name": "python",
   "nbconvert_exporter": "python",
   "pygments_lexer": "ipython3",
   "version": "3.9.13"
  },
  "orig_nbformat": 4
 },
 "nbformat": 4,
 "nbformat_minor": 2
}
