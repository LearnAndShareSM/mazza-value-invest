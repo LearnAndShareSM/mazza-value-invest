{
 "cells": [
  {
   "cell_type": "code",
   "execution_count": 1,
   "metadata": {},
   "outputs": [],
   "source": [
    "import sys\n",
    "sys.path.append(\"..\")  \n",
    "\n",
    "from openbb_terminal.sdk import openbb\n",
    "from backend.financialmodelingprep import fmp_stocks\n",
    "import yaml\n",
    "from datetime import datetime\n",
    "import pandas as pd\n",
    "from backend.db import LogAvailableTickers, LogIngestedTickers,Balance,  bulk_insert_data_from_dataframe, read_table_data, engine\n",
    "\n",
    "with open('../backend/credentials.yaml', 'r') as file:\n",
    "    config = yaml.safe_load(file)"
   ]
  },
  {
   "cell_type": "code",
   "execution_count": 2,
   "metadata": {},
   "outputs": [],
   "source": [
    "# Fetch the companies and tickers\n",
    "openbb.keys.fmp(key=config['api']['fmp'], persist=True)\n",
    "companies = fmp_stocks.available_companies(config['api']['fmp'])\n",
    "companies_nasdaq = companies[(companies['exchangeShortName'] == \"NASDAQ\") & (companies['type'] == \"stock\")]\n",
    "companies_milan= companies[(companies['exchangeShortName'] == \"MIL\") & (companies['type'] == \"stock\")]\n",
    "\n",
    "list_ticker_nasdaq = companies_nasdaq.symbol.to_list()\n",
    "list_ticker_mil = companies_milan.symbol.to_list()"
   ]
  },
  {
   "cell_type": "code",
   "execution_count": 3,
   "metadata": {},
   "outputs": [],
   "source": [
    "list_ticker = list_ticker_mil"
   ]
  },
  {
   "cell_type": "code",
   "execution_count": 4,
   "metadata": {},
   "outputs": [],
   "source": [
    "\n",
    "df_log = pd.DataFrame([{\n",
    "    'timestamp': datetime.now(),\n",
    "    'num_companies': len(companies),\n",
    "    'num_tickers': len(list_ticker)\n",
    "}]) "
   ]
  },
  {
   "cell_type": "code",
   "execution_count": 5,
   "metadata": {},
   "outputs": [],
   "source": [
    "bulk_insert_data_from_dataframe(LogAvailableTickers, df_log)"
   ]
  },
  {
   "cell_type": "code",
   "execution_count": null,
   "metadata": {},
   "outputs": [],
   "source": [
    "\n"
   ]
  },
  {
   "cell_type": "code",
   "execution_count": 6,
   "metadata": {},
   "outputs": [],
   "source": [
    "\n",
    "# Partiamo da una lista di ticker ridotta e iteriamo su 100 trimestri. Sicuramente c'è un modo piu ottimale di farlo, ma al momento lo lasciamo cosi\n",
    "list_ticker = ['AAPL', \"PLTR\",\"AMZN\",\"META\",\"NIO\",\"RGTI\",\"FFIEW\",\"NVDA\",\"NFLX\",\"BABA\"]\n",
    "\n",
    "source=\"FinancialModelingPrep\"\n",
    "quarterly=True\n",
    "limit=100\n",
    "\n",
    "# Leggiamo i dati già storicizzati\n",
    "df = read_table_data(engine, \"fa_balance\")   "
   ]
  },
  {
   "cell_type": "code",
   "execution_count": 18,
   "metadata": {},
   "outputs": [],
   "source": [
    "def process_ticker(ticker, df):\n",
    "    df_quarterly = openbb.stocks.fa.balance(symbol=ticker, source=source, quarterly=quarterly, limit=limit)\n",
    "    \n",
    "    if df_quarterly.empty:\n",
    "        print(f\"Ticker {ticker} not found\")\n",
    "        return df, None\n",
    "    \n",
    "    df_quarterly = df_quarterly.T.reset_index()\n",
    "    df_quarterly['ticker'] = ticker\n",
    "    df_quarterly['current_date'] = pd.Timestamp.now().floor('S')\n",
    "    df_quarterly.columns = [col.lower().replace(\" \",\"_\") for col in df_quarterly.columns]\n",
    "    \n",
    "    # Convert both 'calendar_year' columns to datetime\n",
    "    df_quarterly['calendar_year'] = pd.to_datetime(df_quarterly['calendar_year'])\n",
    "    if 'calendar_year' in df.columns:\n",
    "        df['calendar_year'] = pd.to_datetime(df['calendar_year'])\n",
    "    \n",
    "    if df.empty:\n",
    "        \n",
    "        df_log_process = pd.DataFrame([{\n",
    "\n",
    "            'ingestion_timestamp': datetime.now(),\n",
    "            'ticker': ticker,\n",
    "            'num_new_rows': len(df_quarterly),\n",
    "            'num_old_rows_diff_dates': 0,\n",
    "            'num_columns': len(df_quarterly.columns)\n",
    "        \n",
    "        }])\n",
    "            \n",
    "            \n",
    "        \n",
    "        return df_quarterly, df_log_process\n",
    "    \n",
    "    df_quarterly_merge = df_quarterly.merge(df, how='left', indicator=True, on=['cik', 'calendar_year', 'period'], suffixes=('', '_y'))\n",
    "    df_new_rows = df_quarterly_merge[df_quarterly_merge['_merge'] == 'left_only']\n",
    "    df_old_rows = df_quarterly_merge[df_quarterly_merge['_merge'] == 'both']\n",
    "    df_old_rows_diff_dates = df_old_rows[(df_old_rows['filling_date'] != df_old_rows['filling_date_y']) | (df_old_rows['accepted_date'] != df_old_rows['accepted_date_y'])]\n",
    "    \n",
    "    df_log_process = pd.DataFrame([{\n",
    "        'ingestion_timestamp': datetime.now(),\n",
    "        'ticker': ticker,\n",
    "        'num_new_rows': len(df_new_rows),\n",
    "        'num_old_rows_diff_dates': len(df_old_rows_diff_dates),\n",
    "        'num_columns': len(df_quarterly.columns)\n",
    "    }])\n",
    "    \n",
    "    print(df_log_process)\n",
    "    \n",
    "    return pd.concat([df_new_rows[df.columns], df_old_rows_diff_dates[df.columns]]), df_log_process"
   ]
  },
  {
   "cell_type": "code",
   "execution_count": 19,
   "metadata": {},
   "outputs": [],
   "source": [
    "df_processed, df_log = process_ticker(ticker, df)"
   ]
  },
  {
   "cell_type": "code",
   "execution_count": 20,
   "metadata": {},
   "outputs": [
    {
     "data": {
      "text/html": [
       "<div>\n",
       "<style scoped>\n",
       "    .dataframe tbody tr th:only-of-type {\n",
       "        vertical-align: middle;\n",
       "    }\n",
       "\n",
       "    .dataframe tbody tr th {\n",
       "        vertical-align: top;\n",
       "    }\n",
       "\n",
       "    .dataframe thead th {\n",
       "        text-align: right;\n",
       "    }\n",
       "</style>\n",
       "<table border=\"1\" class=\"dataframe\">\n",
       "  <thead>\n",
       "    <tr style=\"text-align: right;\">\n",
       "      <th></th>\n",
       "      <th>ingestion_timestamp</th>\n",
       "      <th>ticker</th>\n",
       "      <th>num_new_rows</th>\n",
       "      <th>num_old_rows_diff_dates</th>\n",
       "      <th>num_columns</th>\n",
       "    </tr>\n",
       "  </thead>\n",
       "  <tbody>\n",
       "    <tr>\n",
       "      <th>0</th>\n",
       "      <td>2023-08-10 18:50:59.284352</td>\n",
       "      <td>AAPL</td>\n",
       "      <td>100</td>\n",
       "      <td>0</td>\n",
       "      <td>55</td>\n",
       "    </tr>\n",
       "  </tbody>\n",
       "</table>\n",
       "</div>"
      ],
      "text/plain": [
       "         ingestion_timestamp ticker  num_new_rows  num_old_rows_diff_dates  \\\n",
       "0 2023-08-10 18:50:59.284352   AAPL           100                        0   \n",
       "\n",
       "   num_columns  \n",
       "0           55  "
      ]
     },
     "execution_count": 20,
     "metadata": {},
     "output_type": "execute_result"
    }
   ],
   "source": [
    "df_log"
   ]
  },
  {
   "cell_type": "code",
   "execution_count": null,
   "metadata": {},
   "outputs": [],
   "source": []
  },
  {
   "cell_type": "code",
   "execution_count": 21,
   "metadata": {},
   "outputs": [],
   "source": [
    "# Main script\n",
    "dataframes = []\n",
    "records = []\n",
    "\n",
    "for ticker in list_ticker:\n",
    "    df_processed, df_log = process_ticker(ticker, df)\n",
    "    if df_processed is not None:\n",
    "        dataframes.append(df_processed)\n",
    "    if df_log is not None:\n",
    "        bulk_insert_data_from_dataframe(LogIngestedTickers, df_log)\n",
    "\n",
    "df_final = pd.concat(dataframes, ignore_index=True)\n",
    "\n",
    "date_columns = ['filling_date', 'accepted_date', 'current_date']\n",
    "for col in date_columns:\n",
    "    df_final[col] = pd.to_datetime(df_final[col])"
   ]
  },
  {
   "cell_type": "code",
   "execution_count": 22,
   "metadata": {},
   "outputs": [
    {
     "data": {
      "text/plain": [
       "(524, 55)"
      ]
     },
     "execution_count": 22,
     "metadata": {},
     "output_type": "execute_result"
    }
   ],
   "source": [
    "df_final.shape"
   ]
  },
  {
   "cell_type": "code",
   "execution_count": 23,
   "metadata": {},
   "outputs": [],
   "source": [
    "bulk_insert_data_from_dataframe(Balance, df_final)"
   ]
  },
  {
   "cell_type": "code",
   "execution_count": 25,
   "metadata": {},
   "outputs": [
    {
     "name": "stdout",
     "output_type": "stream",
     "text": [
      "class Balance(Base):\n",
      "    __tablename__ = 'balance'\n",
      "    fiscal_date_ending = Column(String)\n",
      "    reported_currency = Column(String)\n",
      "    cik = Column(String, primary_key=True)\n",
      "    filling_date = Column(Date, primary_key=True)\n",
      "    accepted_date = Column(Date, primary_key=True)\n",
      "    calendar_year = Column(Date, primary_key=True)\n",
      "    period = Column(String, primary_key=True)\n",
      "    cash_and_cash_equivalents = Column(String)\n",
      "    short_term_investments = Column(String)\n",
      "    cash_and_short_term_investments = Column(String)\n",
      "    net_receivables = Column(String)\n",
      "    inventory = Column(String)\n",
      "    other_current_assets = Column(String)\n",
      "    total_current_assets = Column(String)\n",
      "    property_plant_equipment_net = Column(String)\n",
      "    goodwill = Column(String)\n",
      "    intangible_assets = Column(String)\n",
      "    goodwill_and_intangible_assets = Column(String)\n",
      "    long_term_investments = Column(String)\n",
      "    tax_assets = Column(String)\n",
      "    other_non_current_assets = Column(String)\n",
      "    total_non_current_assets = Column(String)\n",
      "    other_assets = Column(String)\n",
      "    total_assets = Column(String)\n",
      "    account_payables = Column(String)\n",
      "    short_term_debt = Column(String)\n",
      "    tax_payables = Column(String)\n",
      "    deferred_revenue = Column(String)\n",
      "    other_current_liabilities = Column(String)\n",
      "    total_current_liabilities = Column(String)\n",
      "    long_term_debt = Column(String)\n",
      "    deferred_revenue_non_current = Column(String)\n",
      "    deferred_tax_liabilities_non_current = Column(String)\n",
      "    other_non_current_liabilities = Column(String)\n",
      "    total_non_current_liabilities = Column(String)\n",
      "    other_liabilities = Column(String)\n",
      "    capital_lease_obligations = Column(String)\n",
      "    total_liabilities = Column(String)\n",
      "    preferred_stock = Column(String)\n",
      "    common_stock = Column(String)\n",
      "    retained_earnings = Column(String)\n",
      "    accumulated_other_comprehensive_income_loss = Column(String)\n",
      "    othertotal_stockholders_equity = Column(String)\n",
      "    total_stockholders_equity = Column(String)\n",
      "    total_equity = Column(String)\n",
      "    total_liabilities_and_stockholders_equity = Column(String)\n",
      "    minority_interest = Column(String)\n",
      "    total_liabilities_and_total_equity = Column(String)\n",
      "    total_investments = Column(String)\n",
      "    total_debt = Column(String)\n",
      "    net_debt = Column(String)\n",
      "    link = Column(String)\n",
      "    final_link = Column(String)\n",
      "    ticker = Column(String, primary_key=True)\n",
      "    current_date = Column(Date)\n"
     ]
    }
   ],
   "source": []
  },
  {
   "cell_type": "code",
   "execution_count": 26,
   "metadata": {},
   "outputs": [],
   "source": [
    "# Salviamo il codice in un file .py\n",
    "with open('generate_model.py', 'w') as f:\n",
    "    # Scriviamo le importazioni necessarie all'inizio del file\n",
    "    f.write(\"from sqlalchemy.ext.declarative import declarative_base\\n\")\n",
    "    f.write(\"from sqlalchemy import Column, Integer, String, Float, Date\\n\")\n",
    "    f.write(\"Base = declarative_base()\\n\\n\")\n",
    "    \n",
    "    # Scriviamo il codice sorgente della classe Balance\n",
    "    f.write(Balance_code)"
   ]
  },
  {
   "cell_type": "code",
   "execution_count": null,
   "metadata": {},
   "outputs": [],
   "source": []
  }
 ],
 "metadata": {
  "kernelspec": {
   "display_name": "obb",
   "language": "python",
   "name": "python3"
  },
  "language_info": {
   "codemirror_mode": {
    "name": "ipython",
    "version": 3
   },
   "file_extension": ".py",
   "mimetype": "text/x-python",
   "name": "python",
   "nbconvert_exporter": "python",
   "pygments_lexer": "ipython3",
   "version": "3.9.13"
  },
  "orig_nbformat": 4
 },
 "nbformat": 4,
 "nbformat_minor": 2
}
