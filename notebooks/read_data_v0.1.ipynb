{
 "cells": [
  {
   "cell_type": "code",
   "execution_count": 1,
   "metadata": {},
   "outputs": [],
   "source": [
    "import sys\n",
    "sys.path.append(\"..\")  \n",
    "\n",
    "from openbb_terminal.sdk import openbb\n",
    "from backend.financialmodelingprep import fmp_stocks\n",
    "import yaml\n",
    "from datetime import datetime\n",
    "import pandas as pd\n",
    "from backend.db import LogAvailableTickers, LogIngestedTickers, insert_data, read_table_data, engine\n",
    "\n",
    "with open('../backend/credentials.yaml', 'r') as file:\n",
    "    config = yaml.safe_load(file)"
   ]
  },
  {
   "cell_type": "code",
   "execution_count": 2,
   "metadata": {},
   "outputs": [],
   "source": [
    "# Fetch the companies and tickers\n",
    "openbb.keys.fmp(key=config['api']['fmp'], persist=True)\n",
    "companies = fmp_stocks.available_companies(config['api']['fmp'])\n",
    "companies_nasdaq = companies[(companies['exchangeShortName'] == \"NASDAQ\") & (companies['type'] == \"stock\")]\n",
    "companies_milan= companies[(companies['exchangeShortName'] == \"MIL\") & (companies['type'] == \"stock\")]\n",
    "\n",
    "list_ticker_nasdaq = companies_nasdaq.symbol.to_list()\n",
    "list_ticker_mil = companies_milan.symbol.to_list()"
   ]
  },
  {
   "cell_type": "code",
   "execution_count": 3,
   "metadata": {},
   "outputs": [],
   "source": [
    "list_ticker = list_ticker_mil"
   ]
  },
  {
   "cell_type": "code",
   "execution_count": 4,
   "metadata": {},
   "outputs": [],
   "source": [
    "record = {\n",
    "    'timestamp': datetime.now(),\n",
    "    'num_companies': len(companies),\n",
    "    'num_tickers': len(list_ticker)\n",
    "}"
   ]
  },
  {
   "cell_type": "code",
   "execution_count": 5,
   "metadata": {},
   "outputs": [],
   "source": [
    "\n",
    "insert_data(LogAvailableTickers, record)"
   ]
  },
  {
   "cell_type": "code",
   "execution_count": 7,
   "metadata": {},
   "outputs": [
    {
     "name": "stdout",
     "output_type": "stream",
     "text": [
      "The table fa_balance does not exist in the database.\n"
     ]
    }
   ],
   "source": [
    "\n",
    "# Partiamo da una lista di ticker ridotta e iteriamo su 100 trimestri. Sicuramente c'è un modo piu ottimale di farlo, ma al momento lo lasciamo cosi\n",
    "list_ticker = ['AAPL', \"PLTR\",\"AMZN\",\"META\",\"NIO\",\"RGTI\",\"FFIEW\",\"NVDA\",\"NFLX\"]\n",
    "\n",
    "source=\"FinancialModelingPrep\"\n",
    "quarterly=True\n",
    "limit=100\n",
    "\n",
    "# Leggiamo i dati già storicizzati\n",
    "df = read_table_data(engine, \"fa_balance\")   "
   ]
  },
  {
   "cell_type": "code",
   "execution_count": 8,
   "metadata": {},
   "outputs": [],
   "source": [
    "def process_ticker(ticker, df):\n",
    "    df_quarterly = openbb.stocks.fa.balance(symbol=ticker, source=source, quarterly=quarterly, limit=limit)\n",
    "    \n",
    "    if df_quarterly.empty:\n",
    "        print(f\"Ticker {ticker} not found\")\n",
    "        return df, None\n",
    "    \n",
    "    df_quarterly = df_quarterly.T.reset_index()\n",
    "    df_quarterly['ticker'] = ticker\n",
    "    df_quarterly['current_date'] = pd.Timestamp.now().floor('S')\n",
    "    df_quarterly.columns = [col.lower().replace(\" \",\"_\") for col in df_quarterly.columns]\n",
    "    \n",
    "    # Convert both 'calendar_year' columns to datetime\n",
    "    df_quarterly['calendar_year'] = pd.to_datetime(df_quarterly['calendar_year'])\n",
    "    if 'calendar_year' in df.columns:\n",
    "        df['calendar_year'] = pd.to_datetime(df['calendar_year'])\n",
    "    \n",
    "    if df.empty:\n",
    "        record = {\n",
    "            'ingestion_timestamp': datetime.now(),\n",
    "            'ticker': ticker,\n",
    "            'num_new_rows': len(df_quarterly),\n",
    "            'num_old_rows_diff_dates': 0,\n",
    "            'num_columns': len(df_quarterly.columns)\n",
    "        }\n",
    "        return df_quarterly, record\n",
    "    \n",
    "    df_quarterly_merge = df_quarterly.merge(df, how='left', indicator=True, on=['cik', 'calendar_year', 'period'], suffixes=('', '_y'))\n",
    "    df_new_rows = df_quarterly_merge[df_quarterly_merge['_merge'] == 'left_only']\n",
    "    df_old_rows = df_quarterly_merge[df_quarterly_merge['_merge'] == 'both']\n",
    "    df_old_rows_diff_dates = df_old_rows[(df_old_rows['filling_date'] != df_old_rows['filling_date_y']) | (df_old_rows['accepted_date'] != df_old_rows['accepted_date_y'])]\n",
    "    \n",
    "    record = {\n",
    "        'ingestion_timestamp': datetime.now(),\n",
    "        'ticker': ticker,\n",
    "        'num_new_rows': len(df_new_rows),\n",
    "        'num_old_rows_diff_dates': len(df_old_rows_diff_dates),\n",
    "        'num_columns': len(df_quarterly.columns)\n",
    "    }\n",
    "    \n",
    "    return pd.concat([df_new_rows, df_old_rows_diff_dates]), record\n"
   ]
  },
  {
   "cell_type": "code",
   "execution_count": 9,
   "metadata": {},
   "outputs": [
    {
     "data": {
      "text/plain": [
       "482"
      ]
     },
     "execution_count": 9,
     "metadata": {},
     "output_type": "execute_result"
    }
   ],
   "source": [
    "\n",
    "# Main script\n",
    "dataframes = []\n",
    "records = []\n",
    "\n",
    "for ticker in list_ticker:\n",
    "    df_processed, record = process_ticker(ticker, df)\n",
    "    if df_processed is not None:\n",
    "        dataframes.append(df_processed)\n",
    "    if record is not None:\n",
    "        insert_data(LogIngestedTickers, record)\n",
    "\n",
    "df_final = pd.concat(dataframes, ignore_index=True)\n",
    "\n",
    "date_columns = ['filling_date', 'accepted_date', 'current_date']\n",
    "for col in date_columns:\n",
    "    df_final[col] = pd.to_datetime(df_final[col])\n",
    "    \n",
    "df_final.to_sql('fa_balance', engine, if_exists='replace', index=False)"
   ]
  },
  {
   "cell_type": "code",
   "execution_count": null,
   "metadata": {},
   "outputs": [],
   "source": []
  }
 ],
 "metadata": {
  "kernelspec": {
   "display_name": "obb",
   "language": "python",
   "name": "python3"
  },
  "language_info": {
   "codemirror_mode": {
    "name": "ipython",
    "version": 3
   },
   "file_extension": ".py",
   "mimetype": "text/x-python",
   "name": "python",
   "nbconvert_exporter": "python",
   "pygments_lexer": "ipython3",
   "version": "3.9.13"
  },
  "orig_nbformat": 4
 },
 "nbformat": 4,
 "nbformat_minor": 2
}
