{
 "cells": [
  {
   "cell_type": "code",
   "execution_count": 2,
   "metadata": {},
   "outputs": [
    {
     "name": "stderr",
     "output_type": "stream",
     "text": [
      "INFO:openbb_terminal.cryptocurrency.onchain.bitquery_model:START\n",
      "INFO:openbb_terminal.cryptocurrency.onchain.bitquery_model:END\n"
     ]
    },
    {
     "data": {
      "text/html": [
       "<pre style=\"white-space:pre;overflow-x:auto;line-height:normal;font-family:Menlo,'DejaVu Sans Mono',consolas,'Courier New',monospace\"><span style=\"color: #808000; text-decoration-color: #808000\">Forecasting Toolkit is disabled. To use the Forecasting features please install the toolkit following the instructions here: https://my.openbb.co/app/sdk/installation</span>\n",
       "\n",
       "</pre>\n"
      ],
      "text/plain": [
       "\u001b[33mForecasting Toolkit is disabled. To use the Forecasting features please install the toolkit following the instructions here: https://my.openbb.co/app/sdk/installation\u001b[0m\n",
       "\n"
      ]
     },
     "metadata": {},
     "output_type": "display_data"
    },
    {
     "data": {
      "text/html": [
       "<pre style=\"white-space:pre;overflow-x:auto;line-height:normal;font-family:Menlo,'DejaVu Sans Mono',consolas,'Courier New',monospace\"><span style=\"color: #808000; text-decoration-color: #808000\">Portfolio Optimization Toolkit is disabled. To use the Optimization features please install the toolkit following the instructions here: https://my.openbb.co/app/sdk/installation</span>\n",
       "\n",
       "</pre>\n"
      ],
      "text/plain": [
       "\u001b[33mPortfolio Optimization Toolkit is disabled. To use the Optimization features please install the toolkit following the instructions here: https://my.openbb.co/app/sdk/installation\u001b[0m\n",
       "\n"
      ]
     },
     "metadata": {},
     "output_type": "display_data"
    },
    {
     "name": "stderr",
     "output_type": "stream",
     "text": [
      "INFO:openbb_terminal.loggers:Logging configuration finished\n",
      "INFO:openbb_terminal.loggers:Logging set to ['file', 'posthog']\n",
      "INFO:openbb_terminal.loggers:Verbosity set to 20\n",
      "INFO:openbb_terminal.loggers:LOGFORMAT: %(levelname)s-%(appName)s-%(commitHash)s-%(appId)s-%(sessionId)s-%(userId)s-%(asctime)s-%(name)s-%(funcName)s-%(lineno)s-%(message)s\n",
      "INFO:openbb_terminal.core.log.generation.settings_logger:STARTUP: {\"PREFERENCES\": {\"PLOT_BACKEND\": null, \"PLOT_DPI\": 100, \"PLOT_HEIGHT\": 500, \"PLOT_WIDTH\": 800, \"PLOT_HEIGHT_PERCENTAGE\": 50.0, \"PLOT_WIDTH_PERCENTAGE\": 70.0, \"PLOT_OPEN_EXPORT\": false, \"PLOT_ENABLE_PYWRY\": true, \"PLOT_PYWRY_WIDTH\": 1400, \"PLOT_PYWRY_HEIGHT\": 762, \"FILE_OVERWRITE\": false, \"SHOW_VERSION\": true, \"RETRY_WITH_LOAD\": false, \"USE_TABULATE_DF\": true, \"USE_INTERACTIVE_DF\": true, \"USE_CLEAR_AFTER_CMD\": false, \"USE_DATETIME\": true, \"USE_PROMPT_TOOLKIT\": true, \"USE_PLOT_AUTOSCALING\": false, \"ENABLE_THOUGHTS_DAY\": false, \"ENABLE_QUICK_EXIT\": false, \"OPEN_REPORT_AS_HTML\": true, \"ENABLE_EXIT_AUTO_HELP\": true, \"REMEMBER_CONTEXTS\": true, \"ENABLE_RICH_PANEL\": true, \"ENABLE_CHECK_API\": true, \"TOOLBAR_HINT\": true, \"PREVIOUS_USE\": false, \"TIMEZONE\": \"America/New_York\", \"FLAIR\": \":bug\", \"USE_LANGUAGE\": \"en\", \"REQUEST_TIMEOUT\": 5, \"MONITOR\": 0, \"MPL_STYLE\": \"dark\", \"PMF_STYLE\": \"dark\", \"RICH_STYLE\": \"dark\", \"CHART_STYLE\": \"dark\", \"TABLE_STYLE\": \"dark\", \"GUESS_EASTER_EGG_FILE\": \"/home/sam/github/finance-data-driven/notebooks/guess_game.json\", \"USER_DATA_SOURCES_FILE\": \"/home/sam/OpenBBUserData/sources/sources.json\"}, \"KEYS\": {\"API_BINANCE_KEY\": \"not_defined\", \"API_BINANCE_SECRET\": \"not_defined\", \"API_BITQUERY_KEY\": \"not_defined\", \"API_BIZTOC_TOKEN\": \"not_defined\", \"API_CMC_KEY\": \"not_defined\", \"API_COINBASE_KEY\": \"not_defined\", \"API_COINBASE_PASS_PHRASE\": \"not_defined\", \"API_COINBASE_SECRET\": \"not_defined\", \"API_COINGLASS_KEY\": \"not_defined\", \"API_COMPANIESHOUSE_KEY\": \"not_defined\", \"API_CRYPTO_PANIC_KEY\": \"not_defined\", \"API_DAPPRADAR_KEY\": \"not_defined\", \"API_DATABENTO_KEY\": \"not_defined\", \"API_EODHD_KEY\": \"not_defined\", \"API_ETHPLORER_KEY\": \"not_defined\", \"API_FINNHUB_KEY\": \"not_defined\", \"API_FRED_KEY\": \"not_defined\", \"API_GITHUB_KEY\": \"not_defined\", \"API_GLASSNODE_KEY\": \"not_defined\", \"API_INTRINIO_KEY\": \"not_defined\", \"API_KEY_ALPHAVANTAGE\": \"not_defined\", \"API_KEY_FINANCIALMODELINGPREP\": \"defined\", \"API_KEY_NIXTLA\": \"not_defined\", \"API_KEY_QUANDL\": \"not_defined\", \"API_MESSARI_KEY\": \"not_defined\", \"API_NEWS_TOKEN\": \"not_defined\", \"API_OPENAI_KEY\": \"not_defined\", \"API_POLYGON_KEY\": \"not_defined\", \"API_REDDIT_CLIENT_ID\": \"not_defined\", \"API_REDDIT_CLIENT_SECRET\": \"not_defined\", \"API_REDDIT_PASSWORD\": \"not_defined\", \"API_REDDIT_USERNAME\": \"not_defined\", \"API_REDDIT_USER_AGENT\": \"not_defined\", \"API_SANTIMENT_KEY\": \"not_defined\", \"API_SHROOM_KEY\": \"not_defined\", \"API_SMARTSTAKE_KEY\": \"not_defined\", \"API_SMARTSTAKE_TOKEN\": \"not_defined\", \"API_STOCKSERA_KEY\": \"not_defined\", \"API_TOKEN_TERMINAL_KEY\": \"not_defined\", \"API_TRADIER_TOKEN\": \"not_defined\", \"API_TWITTER_BEARER_TOKEN\": \"not_defined\", \"API_TWITTER_KEY\": \"not_defined\", \"API_TWITTER_SECRET_KEY\": \"not_defined\", \"API_ULTIMA_KEY\": \"not_defined\", \"API_WHALE_ALERT_KEY\": \"not_defined\"}, \"SYSTEM\": {\"OS\": \"Linux\", \"PYTHON_VERSION\": \"3.9.13\", \"PLATFORM\": \"Linux-6.2.0-33-generic-x86_64-with-glibc2.37\", \"VERSION\": \"3.2.2\", \"LOGGING_APP_ID\": \"2fdfabfc-1eb7-4960-afef-da429840b162\", \"LOGGING_APP_NAME\": \"gst_packaged_pypi\", \"LOGGING_COMMIT_HASH\": \"unknown-commit\", \"LOGGING_BRANCH\": \"unknown-branch\", \"LOGGING_FREQUENCY\": \"H\", \"LOGGING_HANDLERS\": [\"file\", \"posthog\"], \"LOGGING_ROLLING_CLOCK\": false, \"LOGGING_VERBOSITY\": 20, \"LOGGING_SUB_APP\": \"sdk\", \"LOGGING_SUPPRESS\": false, \"LOGGING_SEND_TO_S3\": false, \"LOG_COLLECT\": true, \"DISABLE_STREAMLIT_WARNING\": false, \"DISABLE_FORECASTING_WARNING\": true, \"DISABLE_OPTIMIZATION_WARNING\": true, \"TEST_MODE\": false, \"DEBUG_MODE\": false, \"DEV_BACKEND\": false, \"ENABLE_AUTHENTICATION\": true, \"HEADLESS\": false}} \n",
      "INFO:openbb_terminal.core.session.sdk_session:START\n",
      "INFO:openbb_terminal.core.session.sdk_session:END\n"
     ]
    }
   ],
   "source": [
    "import sys\n",
    "sys.path.append(\"..\")  \n",
    "\n",
    "from openbb_terminal.sdk import openbb\n",
    "from backend.financialmodelingprep import fmp_stocks\n",
    "import yaml\n",
    "from datetime import datetime\n",
    "import pandas as pd\n",
    "import os\n",
    "from backend.db import LogAvailableTickers, LogIngestedTickers,Balance,  bulk_insert_data_from_dataframe, read_table_data, engine\n",
    "\n",
    "from dotenv import load_dotenv\n",
    "\n",
    "# Load environment variables from .env file\n",
    "load_dotenv()\n",
    "\n",
    "%load_ext autoreload\n",
    "%autoreload 2\n"
   ]
  },
  {
   "cell_type": "code",
   "execution_count": 3,
   "metadata": {},
   "outputs": [],
   "source": [
    "\n",
    "database_path = os.getenv(\"DATABASE_PATH\")\n",
    "fmp_api_aky = os.getenv(\"FMP_SECRET_KEY\")"
   ]
  },
  {
   "cell_type": "code",
   "execution_count": 4,
   "metadata": {},
   "outputs": [
    {
     "name": "stderr",
     "output_type": "stream",
     "text": [
      "INFO:openbb_terminal.keys_model:START\n",
      "INFO:openbb_terminal.keys_model:{\"INPUT\": {\"persist\": \"True\", \"show_output\": \"False\", \"chart\": \"False\"}, \"VIRTUAL_PATH\": \"keys.fmp\", \"CHART\": false}\n",
      "INFO:openbb_terminal.keys_model:END\n"
     ]
    }
   ],
   "source": [
    "# Fetch the companies and tickers\n",
    "openbb.keys.fmp(key=fmp_api_aky, persist=True)\n",
    "companies = fmp_stocks.available_companies(fmp_api_aky)\n",
    "companies_nasdaq = companies[(companies['exchangeShortName'] == \"NASDAQ\") & (companies['type'] == \"stock\")]\n",
    "companies_milan= companies[(companies['exchangeShortName'] == \"MIL\") & (companies['type'] == \"stock\")]\n",
    "\n",
    "list_ticker_nasdaq = companies_nasdaq.symbol.to_list()\n",
    "list_ticker_mil = companies_milan.symbol.to_list()"
   ]
  },
  {
   "cell_type": "code",
   "execution_count": 5,
   "metadata": {},
   "outputs": [],
   "source": [
    "list_ticker = list_ticker_nasdaq"
   ]
  },
  {
   "cell_type": "code",
   "execution_count": 6,
   "metadata": {},
   "outputs": [],
   "source": [
    "\n",
    "df_log = pd.DataFrame([{\n",
    "    'timestamp': datetime.now(),\n",
    "    'num_companies': len(companies),\n",
    "    'num_tickers': len(list_ticker)\n",
    "}]) "
   ]
  },
  {
   "cell_type": "code",
   "execution_count": 7,
   "metadata": {},
   "outputs": [],
   "source": [
    "bulk_insert_data_from_dataframe(LogAvailableTickers, df_log)"
   ]
  },
  {
   "cell_type": "code",
   "execution_count": 8,
   "metadata": {},
   "outputs": [],
   "source": [
    "\n",
    "# Partiamo da una lista di ticker ridotta e iteriamo su 100 trimestri. Sicuramente c'è un modo piu ottimale di farlo, ma al momento lo lasciamo cosi\n",
    "list_ticker = ['AAPL', \"PLTR\",\"AMZN\",\"META\",\"NIO\",\"RGTI\",\"FFIEW\",\"NVDA\",\"NFLX\",\"BABA\"]\n",
    "\n",
    "source=\"FinancialModelingPrep\"\n",
    "quarterly=True\n",
    "limit=100\n",
    "\n",
    "# Leggiamo i dati già storicizzati\n",
    "df = read_table_data(\"fa_balance\")   "
   ]
  },
  {
   "cell_type": "code",
   "execution_count": 9,
   "metadata": {},
   "outputs": [
    {
     "data": {
      "text/html": [
       "<div>\n",
       "<style scoped>\n",
       "    .dataframe tbody tr th:only-of-type {\n",
       "        vertical-align: middle;\n",
       "    }\n",
       "\n",
       "    .dataframe tbody tr th {\n",
       "        vertical-align: top;\n",
       "    }\n",
       "\n",
       "    .dataframe thead th {\n",
       "        text-align: right;\n",
       "    }\n",
       "</style>\n",
       "<table border=\"1\" class=\"dataframe\">\n",
       "  <thead>\n",
       "    <tr style=\"text-align: right;\">\n",
       "      <th></th>\n",
       "      <th>fiscal_date_ending</th>\n",
       "      <th>reported_currency</th>\n",
       "      <th>cik</th>\n",
       "      <th>filling_date</th>\n",
       "      <th>accepted_date</th>\n",
       "      <th>calendar_year</th>\n",
       "      <th>period</th>\n",
       "      <th>cash_and_cash_equivalents</th>\n",
       "      <th>short_term_investments</th>\n",
       "      <th>cash_and_short_term_investments</th>\n",
       "      <th>...</th>\n",
       "      <th>total_liabilities_and_stockholders_equity</th>\n",
       "      <th>minority_interest</th>\n",
       "      <th>total_liabilities_and_total_equity</th>\n",
       "      <th>total_investments</th>\n",
       "      <th>total_debt</th>\n",
       "      <th>net_debt</th>\n",
       "      <th>link</th>\n",
       "      <th>final_link</th>\n",
       "      <th>ticker</th>\n",
       "      <th>current_date</th>\n",
       "    </tr>\n",
       "  </thead>\n",
       "  <tbody>\n",
       "  </tbody>\n",
       "</table>\n",
       "<p>0 rows × 55 columns</p>\n",
       "</div>"
      ],
      "text/plain": [
       "Empty DataFrame\n",
       "Columns: [fiscal_date_ending, reported_currency, cik, filling_date, accepted_date, calendar_year, period, cash_and_cash_equivalents, short_term_investments, cash_and_short_term_investments, net_receivables, inventory, other_current_assets, total_current_assets, property_plant_equipment_net, goodwill, intangible_assets, goodwill_and_intangible_assets, long_term_investments, tax_assets, other_non_current_assets, total_non_current_assets, other_assets, total_assets, account_payables, short_term_debt, tax_payables, deferred_revenue, other_current_liabilities, total_current_liabilities, long_term_debt, deferred_revenue_non_current, deferred_tax_liabilities_non_current, other_non_current_liabilities, total_non_current_liabilities, other_liabilities, capital_lease_obligations, total_liabilities, preferred_stock, common_stock, retained_earnings, accumulated_other_comprehensive_income_loss, othertotal_stockholders_equity, total_stockholders_equity, total_equity, total_liabilities_and_stockholders_equity, minority_interest, total_liabilities_and_total_equity, total_investments, total_debt, net_debt, link, final_link, ticker, current_date]\n",
       "Index: []\n",
       "\n",
       "[0 rows x 55 columns]"
      ]
     },
     "execution_count": 9,
     "metadata": {},
     "output_type": "execute_result"
    }
   ],
   "source": [
    "df"
   ]
  },
  {
   "cell_type": "code",
   "execution_count": 10,
   "metadata": {},
   "outputs": [],
   "source": [
    "def process_ticker(ticker, df):\n",
    "    df_quarterly = openbb.stocks.fa.balance(symbol=ticker, source=source, quarterly=quarterly, limit=limit)\n",
    "    \n",
    "    if df_quarterly.empty:\n",
    "        print(f\"Ticker {ticker} not found\")\n",
    "        return df, None\n",
    "    \n",
    "    df_quarterly = df_quarterly.T.reset_index()\n",
    "    df_quarterly['ticker'] = ticker\n",
    "    df_quarterly['current_date'] = pd.Timestamp.now().floor('S')\n",
    "    df_quarterly.columns = [col.lower().replace(\" \",\"_\") for col in df_quarterly.columns]\n",
    "    \n",
    "    # Convert both 'calendar_year' columns to datetime\n",
    "    df_quarterly['calendar_year'] = pd.to_datetime(df_quarterly['calendar_year'])\n",
    "    if 'calendar_year' in df.columns:\n",
    "        df['calendar_year'] = pd.to_datetime(df['calendar_year'])\n",
    "    \n",
    "    if df.empty:\n",
    "        \n",
    "        df_log_process = pd.DataFrame([{\n",
    "\n",
    "            'ingestion_timestamp': datetime.now(),\n",
    "            'ticker': ticker,\n",
    "            'num_new_rows': len(df_quarterly),\n",
    "            'num_old_rows_diff_dates': 0,\n",
    "            'num_columns': len(df_quarterly.columns)\n",
    "        \n",
    "        }])\n",
    "            \n",
    "            \n",
    "        \n",
    "        return df_quarterly, df_log_process\n",
    "    \n",
    "    df_quarterly_merge = df_quarterly.merge(df, how='left', indicator=True, on=['cik', 'calendar_year', 'period'], suffixes=('', '_y'))\n",
    "    df_new_rows = df_quarterly_merge[df_quarterly_merge['_merge'] == 'left_only']\n",
    "    df_old_rows = df_quarterly_merge[df_quarterly_merge['_merge'] == 'both']\n",
    "    df_old_rows_diff_dates = df_old_rows[(df_old_rows['filling_date'] != df_old_rows['filling_date_y']) | (df_old_rows['accepted_date'] != df_old_rows['accepted_date_y'])]\n",
    "    \n",
    "    df_log_process = pd.DataFrame([{\n",
    "        'ingestion_timestamp': datetime.now(),\n",
    "        'ticker': ticker,\n",
    "        'num_new_rows': len(df_new_rows),\n",
    "        'num_old_rows_diff_dates': len(df_old_rows_diff_dates),\n",
    "        'num_columns': len(df_quarterly.columns)\n",
    "    }])\n",
    "    \n",
    "\n",
    "    return pd.concat([df_new_rows[df.columns], df_old_rows_diff_dates[df.columns]]), df_log_process"
   ]
  },
  {
   "cell_type": "code",
   "execution_count": 11,
   "metadata": {},
   "outputs": [
    {
     "name": "stderr",
     "output_type": "stream",
     "text": [
      "INFO:openbb_terminal.stocks.fundamental_analysis.sdk_helpers:START\n",
      "INFO:openbb_terminal.stocks.fundamental_analysis.sdk_helpers:{\"INPUT\": {\"quarterly\": \"True\", \"ratios\": \"False\", \"source\": \"FinancialModelingPrep\", \"limit\": \"100\", \"symbol\": \"AAPL\", \"chart\": \"False\"}, \"VIRTUAL_PATH\": \"stocks.fa.balance\", \"CHART\": false}\n",
      "INFO:openbb_terminal.stocks.fundamental_analysis.fmp_model:START\n",
      "INFO:openbb_terminal.stocks.fundamental_analysis.fmp_model:START\n",
      "INFO:openbb_terminal.stocks.fundamental_analysis.fmp_model:END\n",
      "INFO:openbb_terminal.stocks.fundamental_analysis.fmp_model:END\n",
      "INFO:openbb_terminal.stocks.fundamental_analysis.sdk_helpers:END\n",
      "INFO:openbb_terminal.stocks.fundamental_analysis.sdk_helpers:START\n",
      "INFO:openbb_terminal.stocks.fundamental_analysis.sdk_helpers:{\"INPUT\": {\"quarterly\": \"True\", \"ratios\": \"False\", \"source\": \"FinancialModelingPrep\", \"limit\": \"100\", \"symbol\": \"PLTR\", \"chart\": \"False\"}, \"VIRTUAL_PATH\": \"stocks.fa.balance\", \"CHART\": false}\n",
      "INFO:openbb_terminal.stocks.fundamental_analysis.fmp_model:START\n",
      "INFO:openbb_terminal.stocks.fundamental_analysis.fmp_model:START\n",
      "INFO:openbb_terminal.stocks.fundamental_analysis.fmp_model:END\n",
      "INFO:openbb_terminal.stocks.fundamental_analysis.fmp_model:END\n",
      "INFO:openbb_terminal.stocks.fundamental_analysis.sdk_helpers:END\n",
      "INFO:openbb_terminal.stocks.fundamental_analysis.sdk_helpers:START\n",
      "INFO:openbb_terminal.stocks.fundamental_analysis.sdk_helpers:{\"INPUT\": {\"quarterly\": \"True\", \"ratios\": \"False\", \"source\": \"FinancialModelingPrep\", \"limit\": \"100\", \"symbol\": \"AMZN\", \"chart\": \"False\"}, \"VIRTUAL_PATH\": \"stocks.fa.balance\", \"CHART\": false}\n",
      "INFO:openbb_terminal.stocks.fundamental_analysis.fmp_model:START\n",
      "INFO:openbb_terminal.stocks.fundamental_analysis.fmp_model:START\n",
      "INFO:openbb_terminal.stocks.fundamental_analysis.fmp_model:END\n",
      "INFO:openbb_terminal.stocks.fundamental_analysis.fmp_model:END\n",
      "INFO:openbb_terminal.stocks.fundamental_analysis.sdk_helpers:END\n",
      "INFO:openbb_terminal.stocks.fundamental_analysis.sdk_helpers:START\n",
      "INFO:openbb_terminal.stocks.fundamental_analysis.sdk_helpers:{\"INPUT\": {\"quarterly\": \"True\", \"ratios\": \"False\", \"source\": \"FinancialModelingPrep\", \"limit\": \"100\", \"symbol\": \"META\", \"chart\": \"False\"}, \"VIRTUAL_PATH\": \"stocks.fa.balance\", \"CHART\": false}\n",
      "INFO:openbb_terminal.stocks.fundamental_analysis.fmp_model:START\n",
      "INFO:openbb_terminal.stocks.fundamental_analysis.fmp_model:START\n",
      "INFO:openbb_terminal.stocks.fundamental_analysis.fmp_model:END\n",
      "INFO:openbb_terminal.stocks.fundamental_analysis.fmp_model:END\n",
      "INFO:openbb_terminal.stocks.fundamental_analysis.sdk_helpers:END\n",
      "INFO:openbb_terminal.stocks.fundamental_analysis.sdk_helpers:START\n",
      "INFO:openbb_terminal.stocks.fundamental_analysis.sdk_helpers:{\"INPUT\": {\"quarterly\": \"True\", \"ratios\": \"False\", \"source\": \"FinancialModelingPrep\", \"limit\": \"100\", \"symbol\": \"NIO\", \"chart\": \"False\"}, \"VIRTUAL_PATH\": \"stocks.fa.balance\", \"CHART\": false}\n",
      "INFO:openbb_terminal.stocks.fundamental_analysis.fmp_model:START\n",
      "INFO:openbb_terminal.stocks.fundamental_analysis.fmp_model:START\n",
      "INFO:openbb_terminal.stocks.fundamental_analysis.fmp_model:END\n",
      "INFO:openbb_terminal.stocks.fundamental_analysis.fmp_model:END\n",
      "INFO:openbb_terminal.stocks.fundamental_analysis.sdk_helpers:END\n",
      "INFO:openbb_terminal.stocks.fundamental_analysis.sdk_helpers:START\n",
      "INFO:openbb_terminal.stocks.fundamental_analysis.sdk_helpers:{\"INPUT\": {\"quarterly\": \"True\", \"ratios\": \"False\", \"source\": \"FinancialModelingPrep\", \"limit\": \"100\", \"symbol\": \"RGTI\", \"chart\": \"False\"}, \"VIRTUAL_PATH\": \"stocks.fa.balance\", \"CHART\": false}\n",
      "INFO:openbb_terminal.stocks.fundamental_analysis.fmp_model:START\n",
      "INFO:openbb_terminal.stocks.fundamental_analysis.fmp_model:START\n",
      "INFO:openbb_terminal.stocks.fundamental_analysis.fmp_model:END\n",
      "INFO:openbb_terminal.stocks.fundamental_analysis.fmp_model:END\n",
      "INFO:openbb_terminal.stocks.fundamental_analysis.sdk_helpers:END\n",
      "INFO:openbb_terminal.stocks.fundamental_analysis.sdk_helpers:START\n",
      "INFO:openbb_terminal.stocks.fundamental_analysis.sdk_helpers:{\"INPUT\": {\"quarterly\": \"True\", \"ratios\": \"False\", \"source\": \"FinancialModelingPrep\", \"limit\": \"100\", \"symbol\": \"FFIEW\", \"chart\": \"False\"}, \"VIRTUAL_PATH\": \"stocks.fa.balance\", \"CHART\": false}\n",
      "INFO:openbb_terminal.stocks.fundamental_analysis.fmp_model:START\n",
      "INFO:openbb_terminal.stocks.fundamental_analysis.fmp_model:START\n",
      "INFO:openbb_terminal.stocks.fundamental_analysis.fmp_model:END\n",
      "INFO:openbb_terminal.stocks.fundamental_analysis.fmp_model:END\n",
      "INFO:openbb_terminal.stocks.fundamental_analysis.sdk_helpers:END\n",
      "INFO:openbb_terminal.stocks.fundamental_analysis.sdk_helpers:START\n",
      "INFO:openbb_terminal.stocks.fundamental_analysis.sdk_helpers:{\"INPUT\": {\"quarterly\": \"True\", \"ratios\": \"False\", \"source\": \"FinancialModelingPrep\", \"limit\": \"100\", \"symbol\": \"NVDA\", \"chart\": \"False\"}, \"VIRTUAL_PATH\": \"stocks.fa.balance\", \"CHART\": false}\n",
      "INFO:openbb_terminal.stocks.fundamental_analysis.fmp_model:START\n",
      "INFO:openbb_terminal.stocks.fundamental_analysis.fmp_model:START\n",
      "INFO:openbb_terminal.stocks.fundamental_analysis.fmp_model:END\n",
      "INFO:openbb_terminal.stocks.fundamental_analysis.fmp_model:END\n",
      "INFO:openbb_terminal.stocks.fundamental_analysis.sdk_helpers:END\n",
      "INFO:openbb_terminal.stocks.fundamental_analysis.sdk_helpers:START\n",
      "INFO:openbb_terminal.stocks.fundamental_analysis.sdk_helpers:{\"INPUT\": {\"quarterly\": \"True\", \"ratios\": \"False\", \"source\": \"FinancialModelingPrep\", \"limit\": \"100\", \"symbol\": \"NFLX\", \"chart\": \"False\"}, \"VIRTUAL_PATH\": \"stocks.fa.balance\", \"CHART\": false}\n",
      "INFO:openbb_terminal.stocks.fundamental_analysis.fmp_model:START\n",
      "INFO:openbb_terminal.stocks.fundamental_analysis.fmp_model:START\n",
      "INFO:openbb_terminal.stocks.fundamental_analysis.fmp_model:END\n",
      "INFO:openbb_terminal.stocks.fundamental_analysis.fmp_model:END\n",
      "INFO:openbb_terminal.stocks.fundamental_analysis.sdk_helpers:END\n",
      "INFO:openbb_terminal.stocks.fundamental_analysis.sdk_helpers:START\n",
      "INFO:openbb_terminal.stocks.fundamental_analysis.sdk_helpers:{\"INPUT\": {\"quarterly\": \"True\", \"ratios\": \"False\", \"source\": \"FinancialModelingPrep\", \"limit\": \"100\", \"symbol\": \"BABA\", \"chart\": \"False\"}, \"VIRTUAL_PATH\": \"stocks.fa.balance\", \"CHART\": false}\n",
      "INFO:openbb_terminal.stocks.fundamental_analysis.fmp_model:START\n",
      "INFO:openbb_terminal.stocks.fundamental_analysis.fmp_model:START\n",
      "INFO:openbb_terminal.stocks.fundamental_analysis.fmp_model:END\n",
      "INFO:openbb_terminal.stocks.fundamental_analysis.fmp_model:END\n",
      "INFO:openbb_terminal.stocks.fundamental_analysis.sdk_helpers:END\n"
     ]
    }
   ],
   "source": [
    "# Main script\n",
    "dataframes = []\n",
    "records = []\n",
    "\n",
    "for ticker in list_ticker:\n",
    "    df_processed, df_log = process_ticker(ticker, df)\n",
    "    if df_processed is not None:\n",
    "        dataframes.append(df_processed)\n",
    "    if df_log is not None:\n",
    "        bulk_insert_data_from_dataframe(LogIngestedTickers, df_log)\n",
    "\n",
    "df_final = pd.concat(dataframes, ignore_index=True)\n",
    "\n",
    "date_columns = ['filling_date', 'accepted_date', 'current_date']\n",
    "for col in date_columns:\n",
    "    df_final[col] = pd.to_datetime(df_final[col])"
   ]
  },
  {
   "cell_type": "code",
   "execution_count": 13,
   "metadata": {},
   "outputs": [
    {
     "data": {
      "text/plain": [
       "AAPL     100\n",
       "AMZN     100\n",
       "NVDA      98\n",
       "NFLX      86\n",
       "META      47\n",
       "BABA      43\n",
       "NIO       23\n",
       "PLTR      14\n",
       "FFIEW     13\n",
       "RGTI      11\n",
       "Name: ticker, dtype: int64"
      ]
     },
     "execution_count": 13,
     "metadata": {},
     "output_type": "execute_result"
    }
   ],
   "source": [
    "df_final['ticker'].value_counts()"
   ]
  },
  {
   "cell_type": "code",
   "execution_count": 14,
   "metadata": {},
   "outputs": [],
   "source": [
    "bulk_insert_data_from_dataframe(Balance, df_final)"
   ]
  },
  {
   "cell_type": "code",
   "execution_count": null,
   "metadata": {},
   "outputs": [],
   "source": []
  }
 ],
 "metadata": {
  "kernelspec": {
   "display_name": "obb",
   "language": "python",
   "name": "python3"
  },
  "language_info": {
   "codemirror_mode": {
    "name": "ipython",
    "version": 3
   },
   "file_extension": ".py",
   "mimetype": "text/x-python",
   "name": "python",
   "nbconvert_exporter": "python",
   "pygments_lexer": "ipython3",
   "version": "3.9.13"
  },
  "orig_nbformat": 4
 },
 "nbformat": 4,
 "nbformat_minor": 2
}
